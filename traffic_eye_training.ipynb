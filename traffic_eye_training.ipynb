{
 "cells": [
  {
   "cell_type": "code",
   "execution_count": 153,
   "metadata": {},
   "outputs": [],
   "source": [
    "import torch\n",
    "import torchvision\n",
    "import torch.nn as nn\n",
    "                                                  #  '''  do not forget =    it's (HEIGHT, WIDTH)    ''' \n",
    "import torch.nn.functional as F\n",
    "import torch.optim as optim\n",
    "torch.set_printoptions(linewidth = 120)\n",
    "torch.set_grad_enabled(True)\n",
    "import torchvision\n",
    "import torchvision.transforms as transforms\n",
    "from torch.utils.data import Dataset, TensorDataset\n",
    "from torch.utils.data import DataLoader\n",
    "\n",
    "from torch.utils.data.dataset import random_split\n",
    "\n",
    "import matplotlib.pyplot as plt\n",
    "\n",
    "import numpy as np\n",
    "   \n",
    "np.set_printoptions(threshold=50)    # 50 lines \n",
    "\n",
    "\n",
    "from PIL import Image \n",
    "\n",
    "import os\n",
    "\n",
    "from IPython.display import clear_output\n",
    "from torchvision.transforms import ToTensor\n",
    "\n",
    "from numpy import random \n",
    "\n",
    "from scipy.ndimage.filters import gaussian_filter1d   ## smoother\n",
    "\n",
    "\n",
    "from torch.optim.lr_scheduler import StepLR\n",
    "\n",
    "import pickle\n"
   ]
  },
  {
   "cell_type": "code",
   "execution_count": 4,
   "metadata": {},
   "outputs": [
    {
     "name": "stdout",
     "output_type": "stream",
     "text": [
      "(86989, 3, 32, 32)\n"
     ]
    }
   ],
   "source": [
    "x_train = np.array(np.load(\"numpy/x_train.npy\"))\n",
    "\n",
    "print(x_train.shape)"
   ]
  },
  {
   "cell_type": "code",
   "execution_count": 6,
   "metadata": {},
   "outputs": [
    {
     "name": "stdout",
     "output_type": "stream",
     "text": [
      "(86989,)\n"
     ]
    }
   ],
   "source": [
    "y_train = np.array(np.load(\"numpy/y_train.npy\"))\n",
    "\n",
    "\n",
    "print(y_train.shape)"
   ]
  },
  {
   "cell_type": "code",
   "execution_count": 154,
   "metadata": {},
   "outputs": [],
   "source": [
    "x_train_tensor = torch.from_numpy(x_train).float()\n",
    "y_train_tensor = torch.from_numpy(y_train).float()\n",
    "\n",
    "full_dataset = TensorDataset(x_train_tensor, y_train_tensor)       ## make compatible with DataLoader \n",
    "\n",
    "\n",
    "train_size = int(0.9 * len(full_dataset))  ## 80/20 split\n",
    "test_size = len(full_dataset) - train_size\n",
    "train_dataset, test_dataset = random_split(full_dataset, [train_size, test_size])\n"
   ]
  },
  {
   "cell_type": "code",
   "execution_count": 155,
   "metadata": {},
   "outputs": [
    {
     "name": "stdout",
     "output_type": "stream",
     "text": [
      "1958\n",
      "2174\n"
     ]
    }
   ],
   "source": [
    "## 43 labels \n",
    "\n",
    "train_loader = DataLoader(dataset=train_dataset, batch_size=40, shuffle=True)\n",
    "\n",
    "val_loader = DataLoader(dataset=test_dataset, batch_size=4, drop_last = True)\n",
    "\n",
    "print(len(train_loader))\n",
    "print(len(val_loader))"
   ]
  },
  {
   "cell_type": "code",
   "execution_count": 156,
   "metadata": {},
   "outputs": [],
   "source": [
    "\n",
    "def vis_loss_multi(loss_arr,val_arr):\n",
    "    \n",
    "    ysmoothed = gaussian_filter1d(loss_arr, sigma=2)\n",
    "    plt.plot( ysmoothed, label = \"training loss\")\n",
    "    \n",
    "    ysmoothed2 = gaussian_filter1d(val_arr, sigma=5)\n",
    "    plt.plot(ysmoothed2, label = \"validation loss\")\n",
    "  \n",
    "    \n",
    "    \n",
    "    plt.show()\n",
    "    \n",
    "\n",
    "def vis_loss_multi_colors(loss_arr,val_arr):\n",
    "    \n",
    "    ysmoothed = gaussian_filter1d(loss_arr, sigma=2)\n",
    "    plt.plot( ysmoothed, \"c\", label = \"training\")\n",
    "    \n",
    "    ysmoothed2 = gaussian_filter1d(val_arr, sigma=5)\n",
    "    plt.plot(ysmoothed2, \"g\", label = \"validation\")\n",
    "  \n",
    "    \n",
    "    \n",
    "    plt.show()"
   ]
  },
  {
   "cell_type": "code",
   "execution_count": 157,
   "metadata": {},
   "outputs": [
    {
     "name": "stdout",
     "output_type": "stream",
     "text": [
      "Net(\n",
      "  (conv1): Conv2d(3, 10, kernel_size=(3, 3), stride=(1, 1))\n",
      "  (pool): MaxPool2d(kernel_size=3, stride=3, padding=0, dilation=1, ceil_mode=False)\n",
      "  (dropout): Dropout(p=0.5, inplace=False)\n",
      "  (conv2): Conv2d(10, 15, kernel_size=(3, 3), stride=(1, 1))\n",
      "  (conv3): Conv2d(15, 30, kernel_size=(3, 3), stride=(1, 1))\n",
      "  (fc1): Linear(in_features=1080, out_features=720, bias=True)\n",
      "  (fc2): Linear(in_features=720, out_features=430, bias=True)\n",
      "  (fc3): Linear(in_features=430, out_features=43, bias=True)\n",
      ")\n"
     ]
    }
   ],
   "source": [
    "\n",
    "\n",
    "## doggonet \n",
    "\n",
    "\n",
    "class Net(nn.Module):\n",
    "    def __init__(self):\n",
    "        super(Net, self).__init__()\n",
    "                \n",
    "        \n",
    "        self.conv1 = nn.Conv2d(3, 10, 3)           \n",
    "        \n",
    "        self.pool = nn.MaxPool2d(3,3)\n",
    "        \n",
    "        self.dropout = nn.Dropout(p=0.5)\n",
    "        \n",
    "        self.conv2 = nn.Conv2d(10,15,3)\n",
    "        self.conv3 = nn.Conv2d(15,30,3)       \n",
    "\n",
    "\n",
    "        \n",
    "        self.fc1 = nn.Linear(1080, 720)   \n",
    "        self.fc2 = nn.Linear(720, 430)\n",
    "        \n",
    "        self.fc3 = nn.Linear(430, 43)\n",
    "\n",
    "    def forward(self, x):\n",
    "        \n",
    "        x = F.relu(self.conv1(x))\n",
    "                                                                        ##   F.relu\n",
    "        x = self.pool(x)\n",
    " \n",
    "        x = F.relu(self.conv2(x))\n",
    "        \n",
    "        \n",
    "        x = F.relu(self.conv3(x))\n",
    "        \n",
    "        x = x.view(x.size(0), -1)       \n",
    "        x = F.relu(self.fc1(x))\n",
    "        \n",
    "        \n",
    "        x =F.relu(self.fc2(x))\n",
    "        \n",
    "        x = self.fc3(x)\n",
    "   \n",
    "        \n",
    "        return x\n",
    "\n",
    "doggonet = Net()\n",
    "\n",
    "print(doggonet)\n",
    "\n",
    "net = doggonet"
   ]
  },
  {
   "cell_type": "code",
   "execution_count": 159,
   "metadata": {},
   "outputs": [],
   "source": [
    "\n",
    "def make_train_step(model, optimizer):\n",
    "\n",
    "    def train_step(x, y):\n",
    "     \n",
    "        pred = model(x)       \n",
    "        y = y.long()\n",
    "        \n",
    "#         y = torch.argmax(y).unsqueeze(0)\n",
    "        \n",
    "        loss = F.cross_entropy(pred, y)\n",
    "        \n",
    "#         loss = nn.CrossEntropyLoss()(pred, y)\n",
    "        loss.backward()\n",
    "        \n",
    "        optimizer.step()\n",
    "        \n",
    "        optimizer.zero_grad()\n",
    "        \n",
    "        print (\"|\", end = \"\")\n",
    "        return loss.item()\n",
    "      \n",
    "    return train_step\n",
    "\n",
    "model = doggonet\n",
    "\n",
    "learning_rate = 0.051\n",
    " \n",
    "optimizer = optim.SGD(doggonet.parameters(), learning_rate)                             #,momentum = 0.5, nesterov = True)  ## nesterov is true \n",
    "\n",
    "train_step = make_train_step(model, optimizer)\n",
    "scheduler = StepLR(optimizer, step_size=2, gamma=0.9)  # lr decreases by 25% aftr every epoch\n",
    "\n",
    "\n",
    "losses = []\n",
    "val_losses = []\n",
    "\n",
    "avg_losses = []\n",
    "avg_val_losses = []\n",
    "\n",
    "def train_one_epoch(train_loader, epochs):\n",
    "  \n",
    "\n",
    "  for i in range(epochs):\n",
    "    \n",
    "   \n",
    "    \n",
    "    foo = optimizer.param_groups[0]['lr']\n",
    "    \n",
    "    print(\"training batches  --\", end = \"\")\n",
    "      \n",
    "    for x_batch, y_batch in train_loader:\n",
    "      \n",
    "        model.train()\n",
    "\n",
    "\n",
    "        loss = train_step(x_batch, y_batch)\n",
    "        \n",
    "        losses.append(loss)  ## metrics \n",
    "\n",
    "    with torch.no_grad():\n",
    "        for x_val, y_val in val_loader:\n",
    "\n",
    "\n",
    "            model.eval()\n",
    "\n",
    "            y_val = y_val.long()\n",
    "\n",
    "            yhat = doggonet(x_val)  # pred \n",
    "            val_loss = F.cross_entropy(yhat, y_val)\n",
    "            \n",
    "            \n",
    "            val_losses.append(val_loss.item())  ## metrics \n",
    "         \n",
    "    scheduler.step()   ## lr decay caller \n",
    "    clear_output()\n",
    "    \n",
    "    epoch_avg_loss = sum(losses[-1958:])/19580\n",
    "    \n",
    "    val_av_loss = sum(val_losses[-2174:])/2174\n",
    "    \n",
    "    avg_losses.append(epoch_avg_loss)\n",
    "    \n",
    "    avg_val_losses.append(val_av_loss)\n",
    "    \n",
    "    vis_loss_multi(losses, val_losses)\n",
    "    \n",
    "    print(\"recent state in the last 100 batches -- \")\n",
    "    vis_loss_multi_colors(losses[-100:], val_losses[-100:])\n",
    "    \n",
    "    print (\"epoch - \", i+1, \"  current lr = \", foo,  \" epoch_avg_loss = \", epoch_avg_loss, \"  validation_average_loss = \", val_av_loss)\n",
    "    \n",
    "     \n",
    "    "
   ]
  },
  {
   "cell_type": "code",
   "execution_count": 160,
   "metadata": {
    "scrolled": false
   },
   "outputs": [
    {
     "data": {
      "image/png": "[encoded data removed]",
      "text/plain": [
       "<Figure size 432x288 with 1 Axes>"
      ]
     },
     "metadata": {
      "needs_background": "light"
     },
     "output_type": "display_data"
    },
    {
     "name": "stdout",
     "output_type": "stream",
     "text": [
      "recent state in the last 100 batches -- \n"
     ]
    },
    {
     "data": {
      "image/png": "[encoded data removed]",
      "text/plain": [
       "<Figure size 432x288 with 1 Axes>"
      ]
     },
     "metadata": {
      "needs_background": "light"
     },
     "output_type": "display_data"
    },
    {
     "name": "stdout",
     "output_type": "stream",
     "text": [
      "epoch -  5   current lr =  0.04131  epoch_avg_loss =  0.0018703118839007834   validation_average_loss =  0.05305271167410428\n"
     ]
    }
   ],
   "source": [
    "train_one_epoch(train_loader, 5) \n",
    "\n"
   ]
  },
  {
   "cell_type": "code",
   "execution_count": 161,
   "metadata": {},
   "outputs": [
    {
     "name": "stderr",
     "output_type": "stream",
     "text": [
      "/home/mayukh09/anaconda3/lib/python3.7/site-packages/torch/serialization.py:256: UserWarning: Couldn't retrieve source code for container of type Net. It won't be checked for correctness upon loading.\n",
      "  \"type \" + obj.__name__ + \". It won't be checked \"\n"
     ]
    }
   ],
   "source": [
    "nn_name = \"5_epochs_traffic_eye_first.pth\"\n",
    "\n",
    "torch.save(doggonet, nn_name)"
   ]
  }
 ],
 "metadata": {
  "kernelspec": {
   "display_name": "Python 3",
   "language": "python",
   "name": "python3"
  },
  "language_info": {
   "codemirror_mode": {
    "name": "ipython",
    "version": 3
   },
   "file_extension": ".py",
   "mimetype": "text/x-python",
   "name": "python",
   "nbconvert_exporter": "python",
   "pygments_lexer": "ipython3",
   "version": "3.7.3"
  }
 },
 "nbformat": 4,
 "nbformat_minor": 2
}
