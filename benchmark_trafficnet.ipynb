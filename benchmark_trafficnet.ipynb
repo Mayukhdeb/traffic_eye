{
 "cells": [
  {
   "cell_type": "markdown",
   "metadata": {},
   "source": [
    "# Importing the usual stuff "
   ]
  },
  {
   "cell_type": "code",
   "execution_count": 18,
   "metadata": {},
   "outputs": [],
   "source": [
    "import torch\n",
    "import torchvision\n",
    "import torch.nn as nn                                              \n",
    "import torch.nn.functional as F\n",
    "import torch.optim as optim\n",
    "torch.set_printoptions(linewidth = 120)\n",
    "torch.set_grad_enabled(True)\n",
    "import torchvision\n",
    "import torchvision.transforms as transforms\n",
    "from torch.utils.data import Dataset, TensorDataset\n",
    "from torch.utils.data import DataLoader\n",
    "from torch.utils.data.dataset import random_split\n",
    "from torchvision.transforms import ToTensor\n",
    "from torch.optim.lr_scheduler import StepLR\n",
    "\n",
    "import matplotlib.pyplot as plt\n",
    "from IPython.display import clear_output\n",
    "from PIL import Image\n",
    "\n",
    "import numpy as np\n",
    "np.set_printoptions(threshold=50)    # 50 lines \n",
    "from scipy.ndimage.filters import gaussian_filter1d   ## smoothe"
   ]
  },
  {
   "cell_type": "markdown",
   "metadata": {},
   "source": [
    "# Load up the test set\n",
    "> Also set the batch size to 1 for checking on individual elements "
   ]
  },
  {
   "cell_type": "code",
   "execution_count": 3,
   "metadata": {
    "scrolled": true
   },
   "outputs": [
    {
     "name": "stdout",
     "output_type": "stream",
     "text": [
      "12630 iterations\n"
     ]
    }
   ],
   "source": [
    "labels = np.array(np.load(\"numpy/labels.npy\"))\n",
    "x_test = np.array(np.load(\"numpy/x_test.npy\"))\n",
    "y_test = np.array(np.load(\"numpy/y_test.npy\"))\n",
    "\n",
    "x_test_tensor = torch.from_numpy(x_test).float()\n",
    "y_test_tensor = torch.from_numpy(y_test).float()\n",
    "\n",
    "test_dataset = TensorDataset(x_test_tensor, y_test_tensor)       ## make compatible with DataLoader \n",
    "\n",
    "val_loader = DataLoader(dataset=test_dataset, batch_size=1, shuffle = True)\n",
    "\n",
    "print(len(val_loader), \"iterations\")\n"
   ]
  },
  {
   "cell_type": "markdown",
   "metadata": {},
   "source": [
    "### Building the NN again\n",
    "> Simple workaround for `torch.load()` to work without errors "
   ]
  },
  {
   "cell_type": "code",
   "execution_count": 9,
   "metadata": {},
   "outputs": [
    {
     "name": "stdout",
     "output_type": "stream",
     "text": [
      "Net(\n",
      "  (conv1): Conv2d(3, 45, kernel_size=(3, 3), stride=(1, 1))\n",
      "  (pool): MaxPool2d(kernel_size=3, stride=3, padding=0, dilation=1, ceil_mode=False)\n",
      "  (dropout): Dropout(p=0.5, inplace=False)\n",
      "  (conv2): Conv2d(45, 90, kernel_size=(3, 3), stride=(1, 1))\n",
      "  (conv3): Conv2d(90, 150, kernel_size=(3, 3), stride=(1, 1))\n",
      "  (conv4): Conv2d(150, 200, kernel_size=(3, 3), stride=(1, 1))\n",
      "  (fc1): Linear(in_features=3200, out_features=1200, bias=True)\n",
      "  (fc2): Linear(in_features=1200, out_features=430, bias=True)\n",
      "  (fc3): Linear(in_features=430, out_features=43, bias=True)\n",
      ")\n"
     ]
    }
   ],
   "source": [
    "class Net(nn.Module):\n",
    "    def __init__(self):\n",
    "        super(Net, self).__init__()\n",
    "        \n",
    "        self.conv1 = nn.Conv2d(3, 45, 3)           \n",
    "        \n",
    "        self.pool = nn.MaxPool2d(3,3)\n",
    "        \n",
    "        self.dropout = nn.Dropout(p=0.5)\n",
    "        \n",
    "        self.conv2 = nn.Conv2d(45,90,3)\n",
    "        self.conv3 = nn.Conv2d(90,150,3) \n",
    "        \n",
    "        self.conv4 = nn.Conv2d(150,200,3)\n",
    "\n",
    "        self.fc1 = nn.Linear(3200, 1200)   # linear layers   \n",
    "        self.fc2 = nn.Linear(1200, 430)\n",
    "        \n",
    "        self.fc3 = nn.Linear(430, 43)\n",
    "\n",
    "    def forward(self, x):\n",
    "        \n",
    "        x = F.relu(self.conv1(x))\n",
    "                                                                       \n",
    "        x = self.dropout(self.pool(x))\n",
    " \n",
    "        x = F.relu(self.conv2(x))\n",
    "        x = self.dropout(x)\n",
    "\n",
    "        x = F.relu(self.conv3(x))\n",
    "        x = F.relu(self.conv4(x))\n",
    "    \n",
    "        x = x.view(x.size(0), -1)        \n",
    "        x = self.dropout(x)\n",
    "        x = F.relu(self.fc1(x))\n",
    "        \n",
    "        x =F.relu(self.fc2(x))\n",
    "        x = self.fc3(x)\n",
    "   \n",
    "        return x\n",
    "\n",
    "trafficnet = Net()\n",
    "print(trafficnet)\n",
    "net = trafficnet"
   ]
  },
  {
   "cell_type": "markdown",
   "metadata": {},
   "source": [
    "### Utilities \n",
    ">`preprocess()` takes in raw image path and returns a torch.FloatTensor() ready to be fed to the NN <br>\n",
    "> `image_path_to_result()` pretty self explanatory, image gets fed to NN and the result is returned "
   ]
  },
  {
   "cell_type": "code",
   "execution_count": 4,
   "metadata": {},
   "outputs": [],
   "source": [
    "def preprocess(img_path, show = False):\n",
    "    \n",
    "    im = Image.open(img_path)\n",
    "    im = im.resize((32, 32))\n",
    "    np_im = np.array(im)\n",
    "    if show == True:\n",
    "        \n",
    "        plt.imshow(np_im)\n",
    "        plt.show()\n",
    "    np_im = np.moveaxis(np_im, 2,0)\n",
    "    inp = torch.from_numpy(np_im).unsqueeze(0).float()  ## tensor ready to be fed to nn \n",
    "    \n",
    "    return inp \n",
    "\n",
    "def image_path_to_result(img_path):\n",
    "    \n",
    "    model = torch.load(\"torch/checker.pth\")\n",
    "    \n",
    "    im_tensor = preprocess(img_path, show = True)\n",
    "\n",
    "    res = model(im_tensor).squeeze(0)\n",
    "    \n",
    "    arg = res.max(0)[1].item()\n",
    "    \n",
    "    print(labels[arg])"
   ]
  },
  {
   "cell_type": "code",
   "execution_count": 19,
   "metadata": {
    "scrolled": false
   },
   "outputs": [
    {
     "data": {
      "image/png": "[encoded data removed]",
      "text/plain": [
       "<Figure size 432x288 with 1 Axes>"
      ]
     },
     "metadata": {
      "needs_background": "light"
     },
     "output_type": "display_data"
    },
    {
     "name": "stdout",
     "output_type": "stream",
     "text": [
      "No entry\n"
     ]
    },
    {
     "data": {
      "image/png": "[encoded data removed]",
      "text/plain": [
       "<Figure size 432x288 with 1 Axes>"
      ]
     },
     "metadata": {
      "needs_background": "light"
     },
     "output_type": "display_data"
    },
    {
     "name": "stdout",
     "output_type": "stream",
     "text": [
      "Stop\n"
     ]
    }
   ],
   "source": [
    "image_path_to_result(\"i.jpeg\")  ##  check on a googled image because why not \n",
    "image_path_to_result(\"s.jpg\")  ##  check on a googled image because why not \n",
    "\n"
   ]
  },
  {
   "cell_type": "markdown",
   "metadata": {},
   "source": [
    "## Benchmarking\n",
    "> Calculates accuracy of the NN, simple stuff <br>\n",
    "> Got 91% in the last checkpoint, not too bad I guess "
   ]
  },
  {
   "cell_type": "code",
   "execution_count": 13,
   "metadata": {},
   "outputs": [],
   "source": [
    "def benchmark_trafficnet(  model_path, total):\n",
    " \n",
    "    model = torch.load(model_path)\n",
    "    print (\"benchmarking ...\")\n",
    "    \n",
    "    with torch.no_grad():    \n",
    "        acc = 0         \n",
    "        correct = 0\n",
    "        for x_val, y_val in val_loader:\n",
    "\n",
    "            model.eval()\n",
    "\n",
    "            y_val = y_val.long()\n",
    "\n",
    "            yhat = model(x_val)  # pred \n",
    "            val_loss = F.cross_entropy(yhat, y_val)\n",
    "  \n",
    "            alpha = yhat.squeeze(0)\n",
    "            \n",
    "            alpha = alpha.max(0)[1].item()  # predicted index \n",
    "            \n",
    "            beta = y_val.item()\n",
    "            \n",
    "            if alpha == beta :\n",
    "                correct += 1\n",
    "         \n",
    "        acc = (correct/total)*100\n",
    "        \n",
    "        clear_output()\n",
    "\n",
    "        print(\"acc = \", acc, \" %\")      "
   ]
  },
  {
   "cell_type": "code",
   "execution_count": 254,
   "metadata": {},
   "outputs": [
    {
     "name": "stdout",
     "output_type": "stream",
     "text": [
      "acc =  89.95249406175772  %\n"
     ]
    }
   ],
   "source": [
    "benchmark_trafficnet(\"torch/epsilon.pth\", len(val_loader))"
   ]
  },
  {
   "cell_type": "code",
   "execution_count": 16,
   "metadata": {},
   "outputs": [
    {
     "name": "stdout",
     "output_type": "stream",
     "text": [
      "acc =  91.04513064133016  %\n"
     ]
    }
   ],
   "source": [
    "benchmark_trafficnet(\"torch/checker.pth\", len(val_loader))"
   ]
  }
 ],
 "metadata": {
  "kernelspec": {
   "display_name": "Python 3",
   "language": "python",
   "name": "python3"
  },
  "language_info": {
   "codemirror_mode": {
    "name": "ipython",
    "version": 3
   },
   "file_extension": ".py",
   "mimetype": "text/x-python",
   "name": "python",
   "nbconvert_exporter": "python",
   "pygments_lexer": "ipython3",
   "version": "3.7.3"
  }
 },
 "nbformat": 4,
 "nbformat_minor": 2
}
