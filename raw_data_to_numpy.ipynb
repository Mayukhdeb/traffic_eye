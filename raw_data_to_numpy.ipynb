{
 "cells": [
  {
   "cell_type": "code",
   "execution_count": 6,
   "metadata": {},
   "outputs": [],
   "source": [
    "import pickle \n",
    "\n",
    "import numpy as np\n",
    "\n",
    "import matplotlib.pyplot as plt"
   ]
  },
  {
   "cell_type": "code",
   "execution_count": 3,
   "metadata": {},
   "outputs": [],
   "source": [
    "with open(\"storage/data3.pickle\", 'rb') as pickleFile:\n",
    "    test = pickle.load(pickleFile)"
   ]
  },
  {
   "cell_type": "code",
   "execution_count": 29,
   "metadata": {
    "scrolled": false
   },
   "outputs": [
    {
     "name": "stdout",
     "output_type": "stream",
     "text": [
      "<class 'dict'>\n"
     ]
    }
   ],
   "source": [
    "print(type(test))\n",
    "\n"
   ]
  },
  {
   "cell_type": "code",
   "execution_count": 54,
   "metadata": {},
   "outputs": [],
   "source": [
    "def dict_to_arr_and_save(di, filename_str):\n",
    "\n",
    "    foo = np.array(di)\n",
    "    \n",
    "    print( filename_str,  \" has shape -- \", foo.shape)\n",
    "    \n",
    "    np.save(filename_str, foo)\n",
    "    \n",
    "def check_samples(interval):\n",
    "\n",
    "    for i in range (0, len(x_train), interval):   \n",
    "        foo = np.moveaxis(x_train[i], 0,2)\n",
    "\n",
    "        print(labels[y_train[i]])\n",
    "\n",
    "\n",
    "        plt.imshow(foo)\n",
    "        plt.show()\n",
    "    \n",
    "def find_no_occ(arr, element):\n",
    "    \n",
    "    co = 0 \n",
    "    \n",
    "    for i in range(len(arr)):\n",
    "        \n",
    "        if arr[i] == element:\n",
    "            co += 1\n",
    "            \n",
    "    return(co)\n",
    "\n",
    "\n",
    "def check_for_balance(arr):\n",
    "    \n",
    "    dist = []\n",
    "    \n",
    "    for m in range(len(arr)):\n",
    "        \n",
    "        \n",
    "        \n",
    "        if arr[m] != arr[m-1]:\n",
    "            \n",
    "            no_occ = find_no_occ(arr, arr[m])\n",
    "    \n",
    "            dist.append(no_occ)\n",
    "        \n",
    "            \n",
    "        \n",
    "    return dist\n"
   ]
  },
  {
   "cell_type": "code",
   "execution_count": null,
   "metadata": {},
   "outputs": [
    {
     "name": "stdout",
     "output_type": "stream",
     "text": [
      "numpy/labels.npy  has shape --  (43,)\n",
      "numpy/y_validation.npy  has shape --  (4410,)\n",
      "numpy/x_test.npy  has shape --  (12630, 3, 32, 32)\n",
      "numpy/x_validation.npy  has shape --  (4410, 3, 32, 32)\n",
      "numpy/x_train.npy  has shape --  (86989, 3, 32, 32)\n"
     ]
    }
   ],
   "source": [
    "for i in test.keys():\n",
    "    \n",
    "    fmt_name = \"numpy/\" + i + \".npy\"\n",
    "    \n",
    "    dict_to_arr_and_save(test[i], fmt_name)\n",
    "    "
   ]
  },
  {
   "cell_type": "code",
   "execution_count": 2,
   "metadata": {},
   "outputs": [],
   "source": [
    "x_train = np.array(np.load(\"numpy/x_train.npy\"))"
   ]
  },
  {
   "cell_type": "code",
   "execution_count": 4,
   "metadata": {},
   "outputs": [],
   "source": [
    "y_train = np.array(np.load(\"numpy/y_train.npy\"))"
   ]
  },
  {
   "cell_type": "code",
   "execution_count": 18,
   "metadata": {},
   "outputs": [],
   "source": [
    "labels = np.array(np.load(\"numpy/labels.npy\"))\n"
   ]
  },
  {
   "cell_type": "code",
   "execution_count": 34,
   "metadata": {
    "scrolled": false
   },
   "outputs": [
    {
     "name": "stderr",
     "output_type": "stream",
     "text": [
      "Clipping input data to the valid range for imshow with RGB data ([0..1] for floats or [0..255] for integers).\n"
     ]
    },
    {
     "name": "stdout",
     "output_type": "stream",
     "text": [
      "Go straight or left\n"
     ]
    },
    {
     "data": {
      "image/png": "[encoded data removed]",
      "text/plain": [
       "<Figure size 432x288 with 1 Axes>"
      ]
     },
     "metadata": {
      "needs_background": "light"
     },
     "output_type": "display_data"
    },
    {
     "name": "stderr",
     "output_type": "stream",
     "text": [
      "Clipping input data to the valid range for imshow with RGB data ([0..1] for floats or [0..255] for integers).\n"
     ]
    },
    {
     "name": "stdout",
     "output_type": "stream",
     "text": [
      "Speed limit (70km/h)\n"
     ]
    },
    {
     "data": {
      "image/png": "[encoded data removed]",
      "text/plain": [
       "<Figure size 432x288 with 1 Axes>"
      ]
     },
     "metadata": {
      "needs_background": "light"
     },
     "output_type": "display_data"
    },
    {
     "name": "stderr",
     "output_type": "stream",
     "text": [
      "Clipping input data to the valid range for imshow with RGB data ([0..1] for floats or [0..255] for integers).\n"
     ]
    },
    {
     "name": "stdout",
     "output_type": "stream",
     "text": [
      "End of no passing\n"
     ]
    },
    {
     "data": {
      "image/png": "[encoded data removed]",
      "text/plain": [
       "<Figure size 432x288 with 1 Axes>"
      ]
     },
     "metadata": {
      "needs_background": "light"
     },
     "output_type": "display_data"
    }
   ],
   "source": [
    "check_samples(30000)"
   ]
  },
  {
   "cell_type": "code",
   "execution_count": 57,
   "metadata": {},
   "outputs": [
    {
     "data": {
      "image/png": "[encoded data removed]",
      "text/plain": [
       "<Figure size 432x288 with 1 Axes>"
      ]
     },
     "metadata": {
      "needs_background": "light"
     },
     "output_type": "display_data"
    }
   ],
   "source": [
    "label_sorted = np.sort(y_train)\n",
    "\n",
    "dist = check_for_balance(label_sorted)\n",
    "\n",
    "plt.plot(dist)\n",
    "plt.show()   # such a delight to work on \n"
   ]
  },
  {
   "cell_type": "code",
   "execution_count": null,
   "metadata": {},
   "outputs": [],
   "source": []
  }
 ],
 "metadata": {
  "kernelspec": {
   "display_name": "Python 3",
   "language": "python",
   "name": "python3"
  },
  "language_info": {
   "codemirror_mode": {
    "name": "ipython",
    "version": 3
   },
   "file_extension": ".py",
   "mimetype": "text/x-python",
   "name": "python",
   "nbconvert_exporter": "python",
   "pygments_lexer": "ipython3",
   "version": "3.7.3"
  }
 },
 "nbformat": 4,
 "nbformat_minor": 2
}
