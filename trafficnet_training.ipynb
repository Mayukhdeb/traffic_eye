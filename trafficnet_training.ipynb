{
 "cells": [
  {
   "cell_type": "code",
   "execution_count": 1,
   "metadata": {},
   "outputs": [],
   "source": [
    "import torch\n",
    "import torchvision\n",
    "import torch.nn as nn                                                \n",
    "import torch.nn.functional as F\n",
    "import torch.optim as optim\n",
    "torch.set_printoptions(linewidth = 120)\n",
    "torch.set_grad_enabled(True)\n",
    "import torchvision\n",
    "import torchvision.transforms as transforms\n",
    "from torch.utils.data import Dataset, TensorDataset\n",
    "from torch.utils.data import DataLoader\n",
    "from torch.utils.data.dataset import random_split\n",
    "\n",
    "import matplotlib.pyplot as plt\n",
    "\n",
    "import numpy as np\n",
    "from PIL import Image \n",
    "from IPython.display import clear_output\n",
    "from torchvision.transforms import ToTensor\n",
    "\n",
    "from numpy import random \n",
    "from scipy.ndimage.filters import gaussian_filter1d   ## smoother\n",
    "from torch.optim.lr_scheduler import StepLR"
   ]
  },
  {
   "cell_type": "code",
   "execution_count": 2,
   "metadata": {},
   "outputs": [
    {
     "name": "stdout",
     "output_type": "stream",
     "text": [
      "(86989, 3, 32, 32)\n"
     ]
    }
   ],
   "source": [
    "x_train = np.array(np.load(\"numpy/x_train.npy\"))\n",
    "\n",
    "print(x_train.shape)"
   ]
  },
  {
   "cell_type": "code",
   "execution_count": 3,
   "metadata": {},
   "outputs": [
    {
     "name": "stdout",
     "output_type": "stream",
     "text": [
      "(86989,)\n"
     ]
    }
   ],
   "source": [
    "y_train = np.array(np.load(\"numpy/y_train.npy\"))\n",
    "\n",
    "print(y_train.shape)"
   ]
  },
  {
   "cell_type": "code",
   "execution_count": 4,
   "metadata": {},
   "outputs": [
    {
     "name": "stdout",
     "output_type": "stream",
     "text": [
      "(12630, 3, 32, 32)\n",
      "(12630,)\n"
     ]
    }
   ],
   "source": [
    "x_test = np.array(np.load(\"numpy/x_test.npy\"))\n",
    "y_test = np.array(np.load(\"numpy/y_test.npy\"))\n",
    "\n",
    "print(x_test.shape)\n",
    "print(y_test.shape)"
   ]
  },
  {
   "cell_type": "code",
   "execution_count": 6,
   "metadata": {},
   "outputs": [],
   "source": [
    "x_train_tensor = torch.from_numpy(x_train).float()\n",
    "y_train_tensor = torch.from_numpy(y_train).float()\n",
    "\n",
    "train_dataset = TensorDataset(x_train_tensor, y_train_tensor)       ## make compatible with DataLoader \n",
    "\n",
    "x_test_tensor = torch.from_numpy(x_test).float()\n",
    "y_test_tensor = torch.from_numpy(y_test).float()\n",
    "\n",
    "test_dataset = TensorDataset(x_test_tensor, y_test_tensor)       ## make compatible with DataLoader \n"
   ]
  },
  {
   "cell_type": "code",
   "execution_count": 36,
   "metadata": {},
   "outputs": [
    {
     "name": "stdout",
     "output_type": "stream",
     "text": [
      "3107\n",
      "3158\n"
     ]
    }
   ],
   "source": [
    "##### 43 labels \n",
    "\n",
    "train_loader = DataLoader(dataset=train_dataset, batch_size=28, shuffle=True)\n",
    "\n",
    "val_loader = DataLoader(dataset=test_dataset, batch_size=4, shuffle = True)\n",
    "\n",
    "print(len(train_loader))\n",
    "print(len(val_loader))"
   ]
  },
  {
   "cell_type": "code",
   "execution_count": 9,
   "metadata": {},
   "outputs": [],
   "source": [
    "\n",
    "def vis_loss_multi(loss_arr,val_arr):\n",
    "    \n",
    "    ysmoothed = gaussian_filter1d(loss_arr, sigma=7)\n",
    "    plt.plot( ysmoothed, label = \"training loss\")\n",
    "    \n",
    "    ysmoothed2 = gaussian_filter1d(val_arr, sigma=18)\n",
    "    plt.plot(ysmoothed2, label = \"validation loss\")\n",
    "    plt.show()\n",
    "    \n",
    "\n",
    "def vis_loss_multi_colors(loss_arr,val_arr):\n",
    "    \n",
    "    ysmoothed = gaussian_filter1d(loss_arr, sigma=3)\n",
    "    plt.plot( ysmoothed, \"c\", label = \"training\")\n",
    "    \n",
    "    ysmoothed2 = gaussian_filter1d(val_arr, sigma=7)\n",
    "    plt.plot(ysmoothed2, \"g\", label = \"validation\")\n",
    "\n",
    "    plt.show()\n",
    "    \n",
    "\n",
    "def save_nn(filename):\n",
    "\n",
    "    torch.save(trafficnet, filename)\n",
    "    print (\" saved -- \", filename )      "
   ]
  },
  {
   "cell_type": "code",
   "execution_count": 37,
   "metadata": {},
   "outputs": [
    {
     "name": "stdout",
     "output_type": "stream",
     "text": [
      "Net(\n",
      "  (conv1): Conv2d(3, 45, kernel_size=(3, 3), stride=(1, 1))\n",
      "  (pool): MaxPool2d(kernel_size=3, stride=3, padding=0, dilation=1, ceil_mode=False)\n",
      "  (dropout): Dropout(p=0.5, inplace=False)\n",
      "  (conv2): Conv2d(45, 90, kernel_size=(3, 3), stride=(1, 1))\n",
      "  (conv3): Conv2d(90, 150, kernel_size=(3, 3), stride=(1, 1))\n",
      "  (conv4): Conv2d(150, 200, kernel_size=(3, 3), stride=(1, 1))\n",
      "  (fc1): Linear(in_features=3200, out_features=1200, bias=True)\n",
      "  (fc2): Linear(in_features=1200, out_features=430, bias=True)\n",
      "  (fc3): Linear(in_features=430, out_features=43, bias=True)\n",
      ")\n"
     ]
    }
   ],
   "source": [
    "\n",
    "\n",
    "class Net(nn.Module):\n",
    "    def __init__(self):\n",
    "        super(Net, self).__init__()\n",
    "                \n",
    "        \n",
    "        self.conv1 = nn.Conv2d(3, 45, 3)           \n",
    "        \n",
    "        self.pool = nn.MaxPool2d(3,3)\n",
    "        \n",
    "        self.dropout = nn.Dropout(p=0.5)\n",
    "        \n",
    "        self.conv2 = nn.Conv2d(45,90,3)\n",
    "        self.conv3 = nn.Conv2d(90,150,3) \n",
    "        \n",
    "        self.conv4 = nn.Conv2d(150,200,3)\n",
    "\n",
    "        self.fc1 = nn.Linear(3200, 1200)   # linear layers   \n",
    "        self.fc2 = nn.Linear(1200, 430)\n",
    "        \n",
    "        self.fc3 = nn.Linear(430, 43)\n",
    "\n",
    "    def forward(self, x):\n",
    "        \n",
    "        x = F.relu(self.conv1(x))\n",
    "                                                                       \n",
    "        x = self.dropout(self.pool(x))\n",
    " \n",
    "        x = F.relu(self.conv2(x))\n",
    "        x = self.dropout(x)\n",
    "\n",
    "        x = F.relu(self.conv3(x))\n",
    "        x = F.relu(self.conv4(x))\n",
    "    \n",
    "        x = x.view(x.size(0), -1)        \n",
    "        x = self.dropout(x)\n",
    "        x = F.relu(self.fc1(x))\n",
    "        \n",
    "        x =F.relu(self.fc2(x))\n",
    "        x = self.fc3(x)\n",
    "   \n",
    "        return x\n",
    "\n",
    "trafficnet = Net()\n",
    "print(trafficnet)\n",
    "net = trafficnet"
   ]
  },
  {
   "cell_type": "code",
   "execution_count": 38,
   "metadata": {},
   "outputs": [],
   "source": [
    "losses = []\n",
    "val_losses = []\n",
    "\n",
    "avg_losses = []\n",
    "avg_val_losses = []\n",
    "\n",
    "\n",
    "## metrics "
   ]
  },
  {
   "cell_type": "code",
   "execution_count": 39,
   "metadata": {},
   "outputs": [],
   "source": [
    "def make_train_step(model, optimizer):\n",
    "\n",
    "    def train_step(x, y):\n",
    "     \n",
    "        pred = model(x)       \n",
    "        y = y.long()\n",
    "        loss = F.cross_entropy(pred, y)\n",
    "        \n",
    "        loss.backward()\n",
    "        \n",
    "        optimizer.step()\n",
    "        \n",
    "        optimizer.zero_grad()\n",
    "        \n",
    "        print (\"|\", end = \"\")\n",
    "        return loss.item()\n",
    "      \n",
    "    return train_step\n",
    "\n",
    "model = trafficnet\n",
    "\n",
    "optimizer = optim.SGD(trafficnet.parameters(), learning_rate) \n",
    "\n",
    "train_step = make_train_step(model, optimizer)\n",
    "scheduler = StepLR(optimizer, step_size=1, gamma=0.9)  # lr decreases by 10% aftr every epoch\n",
    "\n",
    "train_valve = False\n",
    "\n",
    "def train_trafficnet(train_loader, epochs, initial_lr):\n",
    "    learning_rate = initial_lr\n",
    " \n",
    "    train_valve = False\n",
    "\n",
    "    for i in range(epochs):\n",
    "\n",
    "        foo = optimizer.param_groups[0]['lr']\n",
    "\n",
    "        print(\"training batches  --\", end = \"\")\n",
    "\n",
    "        for x_batch, y_batch in train_loader:\n",
    "\n",
    "            model.train()\n",
    "\n",
    "            loss = train_step(x_batch, y_batch)\n",
    "\n",
    "            losses.append(loss)  ## metrics \n",
    "\n",
    "        with torch.no_grad():\n",
    "            for x_val, y_val in val_loader:\n",
    "\n",
    "                model.eval()\n",
    "\n",
    "                y_val = y_val.long()\n",
    "\n",
    "                yhat = model(x_val)  # pred \n",
    "                val_loss = F.cross_entropy(yhat, y_val)\n",
    "\n",
    "                val_losses.append(val_loss.item())  ## metrics \n",
    "\n",
    "        scheduler.step()   ## lr decay caller \n",
    "        clear_output()\n",
    "\n",
    "        epoch_avg_loss = sum(losses[-3107:])/3107\n",
    "\n",
    "        val_av_loss = sum(val_losses[-3158:])/3158\n",
    "\n",
    "        avg_losses.append(epoch_avg_loss)\n",
    "\n",
    "        avg_val_losses.append(val_av_loss)\n",
    "\n",
    "        vis_loss_multi(losses, val_losses)\n",
    "\n",
    "        print(\"recent state in the last 500 batches -- \")\n",
    "        vis_loss_multi_colors(losses[-500:], val_losses[-500:])\n",
    "\n",
    "        print (\"epoch - \", i+1, \"  current lr = \", foo,  \" epoch_avg_loss = \", epoch_avg_loss, \"  validation_average_loss = \", val_av_loss)\n",
    "\n",
    "        if val_av_loss < 0.388:\n",
    "\n",
    "            train_valve = True\n",
    "            print (\"train valve set to true\")\n",
    "\n",
    "        if train_valve == True and val_av_loss>0.388:\n",
    "            print (\"prevented  overfit ----\")\n",
    "            break\n",
    "        \n",
    "        if i != 0:\n",
    "            \n",
    "            if val_av_loss < avg_val_losses[-2]:\n",
    "\n",
    "                print (val_av_loss, \"  <  \",avg_val_losses[-2] )\n",
    "\n",
    "                save_nn(\"torch/checker.pth\")\n",
    "    "
   ]
  },
  {
   "cell_type": "code",
   "execution_count": 42,
   "metadata": {
    "scrolled": false
   },
   "outputs": [
    {
     "data": {
      "image/png": "[encoded data removed]",
      "text/plain": [
       "<Figure size 432x288 with 1 Axes>"
      ]
     },
     "metadata": {
      "needs_background": "light"
     },
     "output_type": "display_data"
    },
    {
     "name": "stdout",
     "output_type": "stream",
     "text": [
      "recent state in the last 500 batches -- \n"
     ]
    },
    {
     "data": {
      "image/png": "[encoded data removed]",
      "text/plain": [
       "<Figure size 432x288 with 1 Axes>"
      ]
     },
     "metadata": {
      "needs_background": "light"
     },
     "output_type": "display_data"
    },
    {
     "name": "stdout",
     "output_type": "stream",
     "text": [
      "epoch -  1   current lr =  0.0018530201888518414  epoch_avg_loss =  0.12283389517374392   validation_average_loss =  0.37248896720133484\n",
      "train valve set to true\n"
     ]
    }
   ],
   "source": [
    "train_trafficnet(train_loader, 1, initial_lr = 0.05) \n",
    "\n"
   ]
  }
 ],
 "metadata": {
  "kernelspec": {
   "display_name": "Python 3",
   "language": "python",
   "name": "python3"
  },
  "language_info": {
   "codemirror_mode": {
    "name": "ipython",
    "version": 3
   },
   "file_extension": ".py",
   "mimetype": "text/x-python",
   "name": "python",
   "nbconvert_exporter": "python",
   "pygments_lexer": "ipython3",
   "version": "3.7.3"
  }
 },
 "nbformat": 4,
 "nbformat_minor": 2
}
